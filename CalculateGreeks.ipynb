{
 "cells": [
  {
   "cell_type": "code",
   "execution_count": 1,
   "id": "13f57229",
   "metadata": {},
   "outputs": [],
   "source": [
    "import numpy as np\n",
    "import scipy.stats\n",
    "import pandas as pd\n",
    "import matplotlib as mpl\n",
    "import matplotlib.pyplot as plt"
   ]
  },
  {
   "cell_type": "code",
   "execution_count": 2,
   "id": "6e9df01b",
   "metadata": {},
   "outputs": [],
   "source": [
    "class BSMFormulas(object):\n",
    "\n",
    "\n",
    "  def Get_d1(self, S, K, σ, r, δ, T, t):\n",
    "    d1 = (np.log(S/K)+(r-δ+pow(σ,2)/2)*(T-t))/(σ*(np.sqrt(T-t)))\n",
    "    return d1\n",
    "\n",
    "  def Get_d2(self, S, K, σ, r, δ, T, t):\n",
    "    d2 = self.Get_d1(S, K, σ, r, δ, T, t) - (σ*(np.sqrt(T-t)))\n",
    "    return d2\n",
    "  \n",
    "  def Get_EUCallDelta(self, S, K, σ, r, δ, T, t):\n",
    "    delta = np.exp(-δ*(T-t))*scipy.stats.norm.cdf(self.Get_d1(S, K, σ, r, δ, T, t))\n",
    "    return delta\n",
    "    \n",
    "  def Get_EUCallGamma(self, S, K, σ, r, δ, T, t):\n",
    "    gamma = np.exp(-δ*(T-t)) * 1/(S*σ*np.sqrt(T-t)*np.sqrt(2*np.pi))*np.exp(-pow(self.Get_d1(S, K, σ, r, δ, T, t),2)/2)\n",
    "    return gamma\n",
    "\n",
    "  def Get_EUCallTheta(self, S, K, σ, r, δ, T, t):\n",
    "    theta1 = -np.exp(-δ*(T-t))*(S*σ/(2*np.sqrt(T-t)))*(1/np.sqrt(2*np.pi))*np.exp(-pow(self.Get_d1(S, K, σ, r, δ, T, t),2)/2)\n",
    "    theta2 = -r*K*np.exp(-r*(T-t))*scipy.stats.norm.cdf(self.Get_d2(S, K, σ, r, δ, T, t))+δ*S*np.exp(-δ*(T-t))*scipy.stats.norm.cdf(self.Get_d1(S, K, σ, r, δ, T, t))\n",
    "    return theta1+theta2\n",
    "\n",
    "  def Get_EUCallVega(self, S, K, σ, r, δ, T, t):\n",
    "    vega = np.exp(-δ*(T-t))*S*np.sqrt(T-t) *(1/np.sqrt(2*np.pi)) * np.exp(-pow(self.Get_d1(S, K, σ, r, δ, T, t),2)/2)\n",
    "    return vega\n",
    "\n",
    "  def Get_EUPutDelta(self, S, K, σ, r, δ, T, t):\n",
    "    return self.Get_EUCallDelta(S, K, σ, r, δ, T, t) - 1\n",
    "\n",
    "  def Get_EUCallPrice(self, S, K, σ, r, δ, T, t):\n",
    "    c = S*np.exp(-δ*(T-t))*scipy.stats.norm.cdf(self.Get_d1(S, K, σ, r, δ, T, t)) - np.exp(-r*(T-t))*K*scipy.stats.norm.cdf(self.Get_d2(S, K, σ, r, δ, T, t))\n",
    "    return c\n",
    "\n",
    "  def Get_EUPutPrice(self, S, K, σ, r, δ, T, t):\n",
    "    p = -S*np.exp(-r*(T-t))*scipy.stats.norm.cdf(-self.Get_d1(S, K, σ, r, δ, T, t)) + np.exp(-δ*(T-t))*K*scipy.stats.norm.cdf(self.Get_d2(S, K, σ, r, δ, T, t))\n",
    "    return p\n",
    "\n"
   ]
  },
  {
   "cell_type": "code",
   "execution_count": 3,
   "id": "fa1b1db1",
   "metadata": {},
   "outputs": [
    {
     "name": "stdout",
     "output_type": "stream",
     "text": [
      "Original Call Price:  1.971760880404549\n",
      "Theoretical Call price change:  -1.064178578520071\n",
      "Approximated Call price change:  -1.0217680085369596\n"
     ]
    }
   ],
   "source": [
    "S = 50.5\n",
    "K = 50.0\n",
    "σ = 0.3\n",
    "r = 0.01\n",
    "δ = 0.02\n",
    "T = 1/4\n",
    "t = 2/12\n",
    "\n",
    "t1 = 2/12 + 1/252\n",
    "S1 = 47.5\n",
    "σ1 = 0.35\n",
    "\n",
    "CallPrice = BSMFormulas().Get_EUCallPrice(S, K, σ, r, δ, T, t)\n",
    "CallPrice1 = BSMFormulas().Get_EUCallPrice(S1, K, σ1, r, δ, T, t1)\n",
    "print(\"Original Call Price: \", CallPrice)\n",
    "print(\"Theoretical Call price change: \", CallPrice1-CallPrice)\n",
    "\n",
    "#approximation by greeks\n",
    "CallDiff = BSMFormulas().Get_EUCallDelta(S, K, σ, r, δ, T, t)*(S1-S) + 0.5* BSMFormulas().Get_EUCallGamma(S, K, σ, r, δ, T, t)*((S1-S)**2) + \\\n",
    "BSMFormulas().Get_EUCallVega(S, K, σ, r, δ, T, t)*(σ1-σ) + BSMFormulas().Get_EUCallTheta(S, K, σ, r, δ, T, t)*(t1-t) \n",
    "print(\"Approximated Call price change: \", CallDiff)"
   ]
  },
  {
   "cell_type": "code",
   "execution_count": null,
   "id": "5d895c20",
   "metadata": {},
   "outputs": [],
   "source": []
  }
 ],
 "metadata": {
  "kernelspec": {
   "display_name": "Python 3",
   "language": "python",
   "name": "python3"
  },
  "language_info": {
   "codemirror_mode": {
    "name": "ipython",
    "version": 3
   },
   "file_extension": ".py",
   "mimetype": "text/x-python",
   "name": "python",
   "nbconvert_exporter": "python",
   "pygments_lexer": "ipython3",
   "version": "3.8.8"
  }
 },
 "nbformat": 4,
 "nbformat_minor": 5
}
